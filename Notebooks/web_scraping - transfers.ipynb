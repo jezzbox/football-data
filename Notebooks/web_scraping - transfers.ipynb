{
 "cells": [
  {
   "cell_type": "markdown",
   "metadata": {},
   "source": [
    "# Web scraping - transfers/contracts"
   ]
  },
  {
   "cell_type": "code",
   "execution_count": 2,
   "metadata": {},
   "outputs": [],
   "source": [
    "import os\n",
    "from dotenv import load_dotenv\n",
    "from bs4 import BeautifulSoup\n",
    "import requests\n",
    "import pandas as pd\n",
    "import requests"
   ]
  },
  {
   "cell_type": "code",
   "execution_count": 3,
   "metadata": {},
   "outputs": [],
   "source": [
    "load_dotenv()\n",
    "\n",
    "def get_soup(url):\n",
    "    page = requests.get(url,headers = {\"User-Agent\":\"Mozilla/5.0\",\"origin\":\"https://www.transfermarkt.co.uk\"})\n",
    "    soup = BeautifulSoup(page.content, 'html.parser')\n",
    "    return soup"
   ]
  },
  {
   "cell_type": "code",
   "execution_count": 6,
   "metadata": {},
   "outputs": [],
   "source": [
    "player_urls = []\n",
    "for year in ['2018','2019','2020']:\n",
    "    transfer_soup = get_soup(f'https://www.transfermarkt.co.uk/premier-league/transfers/wettbewerb/GB1?saison_id={year}')\n",
    "    main_div = transfer_soup.find('div',{'class':'large-8 columns'})\n",
    "    for team in main_div.find_all('div',{'class':'box'})[3:]:\n",
    "        team_name = team.find('div',{'class':'table-header'}).find('h2')\n",
    "        transfers = team.find_all('div',{'class':'responsive-table'})\n",
    "        transfer_table = transfers[0].find('tbody')\n",
    "        for transfer_table in transfers[0:1]:\n",
    "            transfer_table = transfer_table.find('tbody')\n",
    "            for tr in transfer_table.find_all('tr'):\n",
    "                td = tr.find('td')\n",
    "                span = td.find('div').find('span')\n",
    "                link = span.find('a', {'class':'spielprofil_tooltip'})\n",
    "                player_urls.append([link.text,link[\"href\"]])\n"
   ]
  },
  {
   "cell_type": "code",
   "execution_count": 9,
   "metadata": {},
   "outputs": [],
   "source": [
    "def get_player_transfers(player):\n",
    "    soup_url = player[1].replace('/profil/','/transfers/')\n",
    "    player_soup = get_soup('https://www.transfermarkt.co.uk'+soup_url)\n",
    "    transfer_history = player_soup.find_all('tr', {'class':'zeile-transfer'})\n",
    "    transfer_list = []\n",
    "    for tr in transfer_history:\n",
    "        td = tr.find_all('td')\n",
    "        row = [tr.text.strip() for tr in td if tr.text.strip() != '']\n",
    "        row.append(player[0])\n",
    "        transfer_list.append(row)\n",
    "        \n",
    "    df = pd.DataFrame(transfer_list, columns = [\"season\",\"date\",\"left\",\"joined\",\"mv\",\"fee\",\"name\"])\n",
    "    print(player[0] + ' added')\n",
    "    return df"
   ]
  },
  {
   "cell_type": "code",
   "execution_count": null,
   "metadata": {},
   "outputs": [],
   "source": [
    "## import time\n",
    "import random\n",
    "\n",
    "df = pd.DataFrame([], columns = [\"season\",\"date\",\"left\",\"joined\",\"mv\",\"fee\",\"name\"])\n",
    "for player in player_urls:\n",
    "    player_df = get_player_transfers(player)\n",
    "    df = pd.concat([df,player_df])\n",
    "    time.sleep(random.randint(15, 26)) # to not break their website"
   ]
  },
  {
   "cell_type": "code",
   "execution_count": 12,
   "metadata": {},
   "outputs": [],
   "source": [
    "df.to_csv('./CSVs/transfers.csv')"
   ]
  },
  {
   "cell_type": "code",
   "execution_count": null,
   "metadata": {},
   "outputs": [],
   "source": []
  }
 ],
 "metadata": {
  "kernelspec": {
   "display_name": "football_env",
   "language": "python",
   "name": "football_env"
  },
  "language_info": {
   "codemirror_mode": {
    "name": "ipython",
    "version": 3
   },
   "file_extension": ".py",
   "mimetype": "text/x-python",
   "name": "python",
   "nbconvert_exporter": "python",
   "pygments_lexer": "ipython3",
   "version": "3.8.5"
  }
 },
 "nbformat": 4,
 "nbformat_minor": 4
}
