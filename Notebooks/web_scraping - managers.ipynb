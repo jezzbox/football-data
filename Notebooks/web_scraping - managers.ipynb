{
 "cells": [
  {
   "cell_type": "markdown",
   "metadata": {},
   "source": [
    "# Web scraping - Managers"
   ]
  },
  {
   "cell_type": "code",
   "execution_count": 22,
   "metadata": {},
   "outputs": [],
   "source": [
    "import os\n",
    "from dotenv import load_dotenv\n",
    "from bs4 import BeautifulSoup\n",
    "import requests\n",
    "import pandas as pd\n",
    "import requests\n",
    "import json"
   ]
  },
  {
   "cell_type": "code",
   "execution_count": 23,
   "metadata": {},
   "outputs": [],
   "source": [
    "load_dotenv()\n",
    "\n",
    "def get_soup(url):\n",
    "    page = requests.get(url)\n",
    "    soup = BeautifulSoup(page.content, 'html.parser')\n",
    "    return soup"
   ]
  },
  {
   "cell_type": "markdown",
   "metadata": {},
   "source": [
    "I will be scraping manager details from https://www.premierleague.com/managers?se=210&cl=-1, which needed the api which was https://footballapi.pulselive.com/football/teamofficials?pageSize=500&comps=1&altIds=true&type=manager&compCodeForActivePlayer=EN_PR&page=0"
   ]
  },
  {
   "cell_type": "code",
   "execution_count": 52,
   "metadata": {},
   "outputs": [],
   "source": [
    "page = requests.get('https://footballapi.pulselive.com/football/teamofficials?pageSize=500&comps=1&altIds=true&type=manager&compCodeForActivePlayer=EN_PR&page=0',headers = {\n",
    "        \"origin\": \"https://www.premierleague.com\"\n",
    "    }).text\n",
    "managers = json.loads(page)"
   ]
  },
  {
   "cell_type": "code",
   "execution_count": 53,
   "metadata": {},
   "outputs": [
    {
     "data": {
      "text/plain": [
       "[{'officialId': 89.0,\n",
       "  'role': 'Manager',\n",
       "  'currentTeam': {'name': 'Tottenham Hotspur',\n",
       "   'club': {'name': 'Tottenham Hotspur',\n",
       "    'shortName': 'Spurs',\n",
       "    'abbr': 'TOT',\n",
       "    'id': 21.0},\n",
       "   'teamType': 'FIRST',\n",
       "   'shortName': 'Spurs',\n",
       "   'id': 21.0,\n",
       "   'altIds': {'opta': 't6'}},\n",
       "  'active': False,\n",
       "  'birth': {'date': {'millis': -791683200000.0, 'label': '30 November 1944'},\n",
       "   'country': {'isoCode': 'GB-SCT',\n",
       "    'country': 'Scotland',\n",
       "    'demonym': 'Scottish'}},\n",
       "  'age': '76 years 211 days',\n",
       "  'name': {'display': 'George Graham', 'first': 'George', 'last': 'Graham'},\n",
       "  'id': 30.0,\n",
       "  'altIds': {'opta': 'man37371'}},\n",
       " {'officialId': 29.0,\n",
       "  'role': 'Manager',\n",
       "  'currentTeam': {'name': 'Everton',\n",
       "   'club': {'name': 'Everton',\n",
       "    'shortName': 'Everton',\n",
       "    'abbr': 'EVE',\n",
       "    'id': 7.0},\n",
       "   'teamType': 'FIRST',\n",
       "   'shortName': 'Everton',\n",
       "   'id': 7.0,\n",
       "   'altIds': {'opta': 't11'}},\n",
       "  'active': False,\n",
       "  'birth': {'date': {'millis': -760320000000.0, 'label': '28 November 1945'},\n",
       "   'country': {'isoCode': 'GB-WLS', 'country': 'Wales', 'demonym': 'Welsh'}},\n",
       "  'age': '75 years 213 days',\n",
       "  'name': {'display': 'Mike Walker', 'first': 'Mike', 'last': 'Walker'},\n",
       "  'id': 392.0,\n",
       "  'altIds': {'opta': 'man37361'}}]"
      ]
     },
     "execution_count": 53,
     "metadata": {},
     "output_type": "execute_result"
    }
   ],
   "source": [
    "managers = managers['content']\n",
    "managers[0:2]\n",
    "    \n",
    "    "
   ]
  },
  {
   "cell_type": "code",
   "execution_count": 48,
   "metadata": {},
   "outputs": [
    {
     "data": {
      "text/html": [
       "<div>\n",
       "<style scoped>\n",
       "    .dataframe tbody tr th:only-of-type {\n",
       "        vertical-align: middle;\n",
       "    }\n",
       "\n",
       "    .dataframe tbody tr th {\n",
       "        vertical-align: top;\n",
       "    }\n",
       "\n",
       "    .dataframe thead th {\n",
       "        text-align: right;\n",
       "    }\n",
       "</style>\n",
       "<table border=\"1\" class=\"dataframe\">\n",
       "  <thead>\n",
       "    <tr style=\"text-align: right;\">\n",
       "      <th></th>\n",
       "      <th>first_name</th>\n",
       "      <th>surname</th>\n",
       "      <th>nationality</th>\n",
       "      <th>date_of_birth</th>\n",
       "      <th>role</th>\n",
       "    </tr>\n",
       "  </thead>\n",
       "  <tbody>\n",
       "    <tr>\n",
       "      <th>0</th>\n",
       "      <td>george</td>\n",
       "      <td>graham</td>\n",
       "      <td>gb-sct</td>\n",
       "      <td>1944-11-30</td>\n",
       "      <td>manager</td>\n",
       "    </tr>\n",
       "    <tr>\n",
       "      <th>1</th>\n",
       "      <td>mike</td>\n",
       "      <td>walker</td>\n",
       "      <td>gb-wls</td>\n",
       "      <td>1945-11-28</td>\n",
       "      <td>manager</td>\n",
       "    </tr>\n",
       "    <tr>\n",
       "      <th>2</th>\n",
       "      <td>ian</td>\n",
       "      <td>porterfield</td>\n",
       "      <td>gb-eng</td>\n",
       "      <td>1946-02-11</td>\n",
       "      <td>manager</td>\n",
       "    </tr>\n",
       "    <tr>\n",
       "      <th>3</th>\n",
       "      <td>joe</td>\n",
       "      <td>royle</td>\n",
       "      <td>gb-eng</td>\n",
       "      <td>1949-04-08</td>\n",
       "      <td>manager</td>\n",
       "    </tr>\n",
       "    <tr>\n",
       "      <th>4</th>\n",
       "      <td>bobby</td>\n",
       "      <td>gould</td>\n",
       "      <td>gb-wls</td>\n",
       "      <td>1946-01-12</td>\n",
       "      <td>manager</td>\n",
       "    </tr>\n",
       "    <tr>\n",
       "      <th>...</th>\n",
       "      <td>...</td>\n",
       "      <td>...</td>\n",
       "      <td>...</td>\n",
       "      <td>...</td>\n",
       "      <td>...</td>\n",
       "    </tr>\n",
       "    <tr>\n",
       "      <th>236</th>\n",
       "      <td>mikel</td>\n",
       "      <td>arteta</td>\n",
       "      <td>es</td>\n",
       "      <td>1982-03-26</td>\n",
       "      <td>manager</td>\n",
       "    </tr>\n",
       "    <tr>\n",
       "      <th>237</th>\n",
       "      <td>marcelo</td>\n",
       "      <td>bielsa</td>\n",
       "      <td>ar</td>\n",
       "      <td>1955-07-21</td>\n",
       "      <td>manager</td>\n",
       "    </tr>\n",
       "    <tr>\n",
       "      <th>238</th>\n",
       "      <td>thomas</td>\n",
       "      <td>tuchel</td>\n",
       "      <td>de</td>\n",
       "      <td>1973-08-29</td>\n",
       "      <td>manager</td>\n",
       "    </tr>\n",
       "    <tr>\n",
       "      <th>239</th>\n",
       "      <td>paul</td>\n",
       "      <td>heckingbottom</td>\n",
       "      <td>gb-eng</td>\n",
       "      <td>1977-07-17</td>\n",
       "      <td>manager</td>\n",
       "    </tr>\n",
       "    <tr>\n",
       "      <th>240</th>\n",
       "      <td>ryan</td>\n",
       "      <td>mason</td>\n",
       "      <td>gb-eng</td>\n",
       "      <td>1991-06-13</td>\n",
       "      <td>manager</td>\n",
       "    </tr>\n",
       "  </tbody>\n",
       "</table>\n",
       "<p>241 rows × 5 columns</p>\n",
       "</div>"
      ],
      "text/plain": [
       "    first_name        surname nationality date_of_birth     role\n",
       "0       george         graham      gb-sct    1944-11-30  manager\n",
       "1         mike         walker      gb-wls    1945-11-28  manager\n",
       "2          ian    porterfield      gb-eng    1946-02-11  manager\n",
       "3          joe          royle      gb-eng    1949-04-08  manager\n",
       "4        bobby          gould      gb-wls    1946-01-12  manager\n",
       "..         ...            ...         ...           ...      ...\n",
       "236      mikel         arteta          es    1982-03-26  manager\n",
       "237    marcelo         bielsa          ar    1955-07-21  manager\n",
       "238     thomas         tuchel          de    1973-08-29  manager\n",
       "239       paul  heckingbottom      gb-eng    1977-07-17  manager\n",
       "240       ryan          mason      gb-eng    1991-06-13  manager\n",
       "\n",
       "[241 rows x 5 columns]"
      ]
     },
     "execution_count": 48,
     "metadata": {},
     "output_type": "execute_result"
    }
   ],
   "source": [
    "managers_list = []\n",
    "for manager in managers:\n",
    "    manager_row = [manager[\"name\"][\"first\"],manager[\"name\"][\"last\"],\n",
    "                   manager[\"birth\"][\"country\"][\"isoCode\"],\n",
    "                   manager[\"birth\"][\"date\"][\"label\"]]\n",
    "    managers_list.append(manager_row)\n",
    "df = pd.DataFrame(managers_list,columns=[\"first_name\",\"surname\",\"nationality\",\"date_of_birth\"])\n",
    "df[\"first_name\"] = df[\"first_name\"].str.lower().str.strip()\n",
    "df[\"surname\"] = df[\"surname\"].str.lower().str.strip()\n",
    "df[\"date_of_birth\"] = pd.to_datetime(df[\"date_of_birth\"])\n",
    "df[\"role\"] = \"manager\"\n",
    "df[\"nationality\"] = df[\"nationality\"].str.lower().str.strip()\n",
    "df"
   ]
  },
  {
   "cell_type": "code",
   "execution_count": 49,
   "metadata": {},
   "outputs": [],
   "source": [
    "df.to_csv(\"../CSVs/managers.csv\")"
   ]
  },
  {
   "cell_type": "code",
   "execution_count": null,
   "metadata": {},
   "outputs": [],
   "source": []
  }
 ],
 "metadata": {
  "kernelspec": {
   "display_name": "football_env",
   "language": "python",
   "name": "football_env"
  },
  "language_info": {
   "codemirror_mode": {
    "name": "ipython",
    "version": 3
   },
   "file_extension": ".py",
   "mimetype": "text/x-python",
   "name": "python",
   "nbconvert_exporter": "python",
   "pygments_lexer": "ipython3",
   "version": "3.8.5"
  }
 },
 "nbformat": 4,
 "nbformat_minor": 4
}
